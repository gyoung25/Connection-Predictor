{
 "cells": [
  {
   "cell_type": "markdown",
   "id": "19d179a2",
   "metadata": {},
   "source": [
    "This code is based on an assignment from the University of Michigan's Coursera course titled Applied Machine Learning in Python. I have expanded on the assignment by ROC curves, performance assessments, new graph metrics for prediction, and some helper functions to better understand the netwoork structure.\n",
    "\n",
    "**Skills demonstrated:** classification, scikit-learn, NetworkX, model evaluation, general coding\n",
    "\n",
    "Overview: \n",
    "\n",
    "> The nodes in the graph defined in assets/email_prediction_NEW.txt represent employees at a company and two nodes are connected if either employee has ever sent the other an email. The dataset assets/Future_Connections.csv contains pairs of currently unconnected nodes and indicates whether they will form a connection in the future (1) or not (0). This dataset is incomplete, with many labeled None. The missing future connection data is contained in assets/Future_Connections_testing.csv.\n",
    "\n",
    "\n",
    "Purpose: \n",
    "> Train a classifier to predict whether the pairs of nodes with missing information in assets/Future_Connections.csv will form a connection in the future.\n",
    "\n",
    "Datasets/graph information: \n",
    "\n",
    "> - assets/email_prediction_NEW.txt: Contains the graph of employees connected by emails\n",
    "> - assets/Future_Connections.csv: CSV indexed by pairs of currently unconnected nodes with labels indicating whether they will form connections in the future. Some labels are missing.\n",
    "> - assets/Future_Connections_testing.csv: CSV containing the labels missing in assets/Future_Connections.csv.\n",
    "    \n",
    "Features:\n",
    "\n",
    "> Each node contains information identifying the department that employee works in and some salary data. The salary data is dropped and unused in this code. All other features are derived from the graph structure. In particular, we consider\n",
    "> 1. the [Jaccard coefficient](https://networkx.org/documentation/stable/reference/algorithms/generated/networkx.algorithms.link_prediction.jaccard_coefficient.html)\n",
    "2. the shortest path between the two nodes if they are in the same connected component\n",
    "3. the [resource allocation index](https://networkx.org/documentation/stable/reference/algorithms/generated/networkx.algorithms.link_prediction.resource_allocation_index.html)\n",
    "4. the [preferential attachment score](https://networkx.org/documentation/stable/reference/algorithms/generated/networkx.algorithms.link_prediction.preferential_attachment.html)\n",
    "5. the [common neighbor centrality score](https://networkx.org/documentation/stable/reference/algorithms/generated/networkx.algorithms.link_prediction.common_neighbor_centrality.html#networkx.algorithms.link_prediction.common_neighbor_centrality)\n",
    "\n",
    "Target variable:\n",
    "\n",
    "> Future Connection - Target label for training. "
   ]
  },
  {
   "cell_type": "code",
   "execution_count": 1,
   "id": "510ec341",
   "metadata": {},
   "outputs": [],
   "source": [
    "import networkx as nx\n",
    "import pandas as pd\n",
    "import numpy as np\n",
    "import pickle\n",
    "import matplotlib.pyplot as plt\n",
    "from sklearn.preprocessing import StandardScaler, LabelEncoder\n",
    "from sklearn.ensemble import RandomForestClassifier\n",
    "from sklearn.model_selection import train_test_split\n",
    "from sklearn.metrics import roc_auc_score, accuracy_score, recall_score, precision_recall_fscore_support\n",
    "from connect_utils import *"
   ]
  },
  {
   "cell_type": "code",
   "execution_count": 2,
   "id": "180e4251",
   "metadata": {},
   "outputs": [
    {
     "name": "stdout",
     "output_type": "stream",
     "text": [
      "The graph contains 1005 nodes and 16706 edges and is undirected, unweighted, and unconnected.\n",
      "It contains 20 connected components.\n",
      "The three largest connected components are of size 986, 1, and 1.\n",
      "The three smallest connected components are of size 1, 1, and 1.\n"
     ]
    }
   ],
   "source": [
    "G = pickle.load(open('assets/email_prediction_NEW.txt', 'rb'))\n",
    "\n",
    "network_feature_summary(G)"
   ]
  },
  {
   "cell_type": "code",
   "execution_count": 3,
   "id": "e4fdc12c",
   "metadata": {},
   "outputs": [],
   "source": [
    "#list(G.nodes(data=True))[:5] # print the first 5 nodes"
   ]
  },
  {
   "cell_type": "code",
   "execution_count": 4,
   "id": "73d70399",
   "metadata": {},
   "outputs": [],
   "source": [
    "#Construct a list of all connected subgraphs\n",
    "S = [G.subgraph(c).copy() for c in nx.connected_components(G)]"
   ]
  },
  {
   "cell_type": "code",
   "execution_count": 5,
   "id": "5a5a78d2",
   "metadata": {},
   "outputs": [],
   "source": [
    "#nx.draw_networkx(S[0])"
   ]
  },
  {
   "cell_type": "code",
   "execution_count": 6,
   "id": "5488ffac",
   "metadata": {},
   "outputs": [
    {
     "data": {
      "text/plain": [
       "[(0, {'Department': 1}),\n",
       " (1, {'Department': 1}),\n",
       " (581, {'Department': 3}),\n",
       " (6, {'Department': 25}),\n",
       " (65, {'Department': 4})]"
      ]
     },
     "execution_count": 6,
     "metadata": {},
     "output_type": "execute_result"
    }
   ],
   "source": [
    "#Remove unnecessary node data\n",
    "type(G.nodes)\n",
    "for i, _ in enumerate(G.nodes):\n",
    "    G.nodes[i].pop('ManagementSalary')\n",
    "list(G.nodes(data=True))[:5]"
   ]
  },
  {
   "cell_type": "code",
   "execution_count": 7,
   "id": "c07b3e2d",
   "metadata": {},
   "outputs": [],
   "source": [
    "#Load CSV containing information on future connections\n",
    "X_orig = pd.read_csv('assets/Future_Connections.csv', index_col=0, converters={0: eval})"
   ]
  },
  {
   "cell_type": "code",
   "execution_count": 8,
   "id": "6e581741",
   "metadata": {},
   "outputs": [],
   "source": [
    "#X_orig.head(10)"
   ]
  },
  {
   "cell_type": "code",
   "execution_count": 9,
   "id": "41078dbe",
   "metadata": {},
   "outputs": [],
   "source": [
    "X, X_test, y = construct_feature_matrix(G, X_orig, shortest_path=True, diam=nx.diameter(S[0]), resource=True)"
   ]
  },
  {
   "cell_type": "code",
   "execution_count": 10,
   "id": "c82367d2",
   "metadata": {},
   "outputs": [
    {
     "data": {
      "text/html": [
       "<div>\n",
       "<style scoped>\n",
       "    .dataframe tbody tr th:only-of-type {\n",
       "        vertical-align: middle;\n",
       "    }\n",
       "\n",
       "    .dataframe tbody tr th {\n",
       "        vertical-align: top;\n",
       "    }\n",
       "\n",
       "    .dataframe thead th {\n",
       "        text-align: right;\n",
       "    }\n",
       "</style>\n",
       "<table border=\"1\" class=\"dataframe\">\n",
       "  <thead>\n",
       "    <tr style=\"text-align: right;\">\n",
       "      <th></th>\n",
       "      <th>Jaccard</th>\n",
       "      <th>Shortest_Path</th>\n",
       "      <th>Resource</th>\n",
       "    </tr>\n",
       "  </thead>\n",
       "  <tbody>\n",
       "    <tr>\n",
       "      <th>(6, 840)</th>\n",
       "      <td>0.073770</td>\n",
       "      <td>2</td>\n",
       "      <td>0.136721</td>\n",
       "    </tr>\n",
       "    <tr>\n",
       "      <th>(4, 197)</th>\n",
       "      <td>0.015504</td>\n",
       "      <td>2</td>\n",
       "      <td>0.008437</td>\n",
       "    </tr>\n",
       "    <tr>\n",
       "      <th>(620, 979)</th>\n",
       "      <td>0.000000</td>\n",
       "      <td>3</td>\n",
       "      <td>0.000000</td>\n",
       "    </tr>\n",
       "    <tr>\n",
       "      <th>(519, 872)</th>\n",
       "      <td>0.060606</td>\n",
       "      <td>2</td>\n",
       "      <td>0.039726</td>\n",
       "    </tr>\n",
       "    <tr>\n",
       "      <th>(382, 423)</th>\n",
       "      <td>0.000000</td>\n",
       "      <td>3</td>\n",
       "      <td>0.000000</td>\n",
       "    </tr>\n",
       "  </tbody>\n",
       "</table>\n",
       "</div>"
      ],
      "text/plain": [
       "             Jaccard  Shortest_Path  Resource\n",
       "(6, 840)    0.073770              2  0.136721\n",
       "(4, 197)    0.015504              2  0.008437\n",
       "(620, 979)  0.000000              3  0.000000\n",
       "(519, 872)  0.060606              2  0.039726\n",
       "(382, 423)  0.000000              3  0.000000"
      ]
     },
     "execution_count": 10,
     "metadata": {},
     "output_type": "execute_result"
    }
   ],
   "source": [
    "X.head()"
   ]
  },
  {
   "cell_type": "code",
   "execution_count": 11,
   "id": "bda79b9c",
   "metadata": {},
   "outputs": [],
   "source": [
    "# Split X and y into training and validation sets\n",
    "X_train, X_valid, y_train, y_valid = train_test_split(X, y, random_state=0)\n",
    "\n",
    "#Scale features in X to fall between 0 and 1\n",
    "scaler = StandardScaler()\n",
    "scaler.fit(X_train)\n",
    "\n",
    "#train and test random forest classifier\n",
    "clf = RandomForestClassifier(n_estimators = 50, max_depth = 8, random_state = 0)\n",
    "clf.fit(scaler.transform(X_train), np.ravel(y_train))\n",
    "y_probs = clf.predict_proba(scaler.transform(X_valid))\n",
    "#print(roc_auc_score(y_valid, y_probs[:,1]))"
   ]
  },
  {
   "cell_type": "code",
   "execution_count": 12,
   "id": "399f096d",
   "metadata": {},
   "outputs": [],
   "source": [
    "#Load dataset containing missing future connection data\n",
    "y_test = pd.read_csv('assets/Future_Connections_testing.csv', index_col=0, header = None, converters={0: eval})"
   ]
  },
  {
   "cell_type": "code",
   "execution_count": 13,
   "id": "a592ea05",
   "metadata": {},
   "outputs": [],
   "source": [
    "#test the classifier's performance on this missing data\n",
    "y_probs_test = clf.predict_proba(scaler.transform(X_test))[:,1]\n",
    "#print(roc_auc_score(y_test, y_probs_test))"
   ]
  },
  {
   "cell_type": "code",
   "execution_count": 14,
   "id": "b6bc2eda",
   "metadata": {},
   "outputs": [],
   "source": [
    "#Construct and plot the ROC curve. Indicate the point on the curve closest to the upper-left corner of the domain\n",
    "fpr, tpr, thresh_info = roc_info(y_test, y_probs_test)"
   ]
  },
  {
   "cell_type": "code",
   "execution_count": 15,
   "id": "4b97b617",
   "metadata": {},
   "outputs": [
    {
     "data": {
      "image/png": "[encoded data removed]",
      "text/plain": [
       "<Figure size 640x480 with 1 Axes>"
      ]
     },
     "metadata": {},
     "output_type": "display_data"
    }
   ],
   "source": [
    "roc_plotter(fpr, tpr, thresh_info,'Random Forest')"
   ]
  },
  {
   "cell_type": "code",
   "execution_count": 16,
   "id": "f7288685",
   "metadata": {},
   "outputs": [
    {
     "name": "stdout",
     "output_type": "stream",
     "text": [
      "We can compare the AUC and accuracy scores of each model:\n",
      "Random forest AUC score: 0.909\n",
      "Random forest accuracy score at optimal probability threshold: 0.886\n",
      "Random forest true positive rate (recall) at optimal probability threshold: 0.824\n",
      "Random forest precision at optimal probability threshold: 0.402\n",
      "Random forest F1 score at optimal probability threshold: 0.540\n",
      "Random forest false positive rate at optimal probability threshold: 0.109\n"
     ]
    }
   ],
   "source": [
    "#print(y_pred > 0.1)\n",
    "rf_thresh = thresh_info[-1]\n",
    "rf_auc = roc_auc_score(y_test, y_probs_test)\n",
    "rf_acc = accuracy_score(y_test, (y_probs_test > rf_thresh))\n",
    "#rf_recall = recall_score(y_test, (y_probs_test > rf_thresh))\n",
    "rf_prec, rf_recall, rf_f1, _ = precision_recall_fscore_support(y_test, (y_probs_test > rf_thresh))\n",
    "\n",
    "print('We can compare the AUC and accuracy scores of each model:')\n",
    "\n",
    "print(f'Random forest AUC score: {rf_auc:.3f}')\n",
    "print(f'Random forest accuracy score at optimal probability threshold: {rf_acc:.3f}')\n",
    "print(f'Random forest true positive rate (recall) at optimal probability threshold: {rf_recall[1]:.3f}')\n",
    "print(f'Random forest precision at optimal probability threshold: {rf_prec[1]:.3f}')\n",
    "print(f'Random forest F1 score at optimal probability threshold: {rf_f1[1]:.3f}')\n",
    "print(f'Random forest false positive rate at optimal probability threshold: {thresh_info[0]:.3f}')\n",
    "\n"
   ]
  },
  {
   "cell_type": "markdown",
   "id": "428d9e2e",
   "metadata": {},
   "source": [
    "Below we summarize the performance of the model in a confusion matrix"
   ]
  },
  {
   "cell_type": "code",
   "execution_count": 22,
   "id": "938cc44b",
   "metadata": {},
   "outputs": [
    {
     "data": {
      "text/plain": [
       "[Text(0.5, 23.52222222222222, 'Predicted label'),\n",
       " Text(113.9222222222222, 0.5, 'True label'),\n",
       " Text(0.5, 1.0, 'Confusion matrix')]"
      ]
     },
     "execution_count": 22,
     "metadata": {},
     "output_type": "execute_result"
    },
    {
     "data": {
      "image/png": "[encoded data removed]",
      "text/plain": [
       "<Figure size 640x480 with 1 Axes>"
      ]
     },
     "metadata": {},
     "output_type": "display_data"
    }
   ],
   "source": [
    "from sklearn.metrics import confusion_matrix, ConfusionMatrixDisplay\n",
    "import seaborn as sns\n",
    "\n",
    "cm = confusion_matrix(y_test, y_probs_test>rf_thresh, labels=clf.classes_)\n",
    "\n",
    "ax = sns.heatmap(cm, fmt='d', annot=True, square=True,\n",
    "            cmap='gray_r', vmin=0, vmax=0,  # set all to white\n",
    "            linewidths=1, linecolor='k',  # draw black grid lines\n",
    "            cbar=False)                     # disable colorbar\n",
    "ax.set(xlabel=\"Predicted label\", ylabel=\"True label\", title='Confusion matrix')"
   ]
  },
  {
   "cell_type": "markdown",
   "id": "1d6a439d",
   "metadata": {},
   "source": [
    "The following confusion matrix divides each row of cm above by that row's sum. The result is a confusion matrix containing the true and false positive and negative rates of the form\n",
    "\n",
    "\\[[tpr, fpr], [fnr, tnr]\\]"
   ]
  },
  {
   "cell_type": "code",
   "execution_count": 18,
   "id": "41ac82ad",
   "metadata": {},
   "outputs": [
    {
     "data": {
      "text/plain": [
       "[Text(0.5, 23.52222222222222, 'Predicted label'),\n",
       " Text(113.9222222222222, 0.5, 'True label'),\n",
       " Text(0.5, 1.0, 'Confusion matrix (rates)')]"
      ]
     },
     "execution_count": 18,
     "metadata": {},
     "output_type": "execute_result"
    },
    {
     "data": {
      "image/png": "[encoded data removed]",
      "text/plain": [
       "<Figure size 640x480 with 1 Axes>"
      ]
     },
     "metadata": {},
     "output_type": "display_data"
    }
   ],
   "source": [
    "cm_rates = cm/np.sum(cm, axis=1, keepdims=True)\n",
    "\n",
    "ax1 = sns.heatmap(cm_rates, annot=True, square=True,\n",
    "            cmap='gray_r', vmin=0, vmax=0,  # set all to white\n",
    "            linewidths=1, linecolor='k',  # draw black grid lines\n",
    "            cbar=False)                     # disable colorbar\n",
    "ax1.set(xlabel=\"Predicted label\", ylabel=\"True label\", title='Confusion matrix (rates)')"
   ]
  },
  {
   "cell_type": "code",
   "execution_count": 23,
   "id": "8d5836fa",
   "metadata": {},
   "outputs": [
    {
     "name": "stdout",
     "output_type": "stream",
     "text": [
      "[(100026, 0.891), (12174, 0.109), (1744, 0.176), (8168, 0.824)]\n"
     ]
    },
    {
     "data": {
      "text/html": [
       "<div>\n",
       "<style scoped>\n",
       "    .dataframe tbody tr th:only-of-type {\n",
       "        vertical-align: middle;\n",
       "    }\n",
       "\n",
       "    .dataframe tbody tr th {\n",
       "        vertical-align: top;\n",
       "    }\n",
       "\n",
       "    .dataframe thead th {\n",
       "        text-align: right;\n",
       "    }\n",
       "</style>\n",
       "<table border=\"1\" class=\"dataframe\">\n",
       "  <thead>\n",
       "    <tr style=\"text-align: right;\">\n",
       "      <th></th>\n",
       "      <th>0</th>\n",
       "      <th>1</th>\n",
       "    </tr>\n",
       "  </thead>\n",
       "  <tbody>\n",
       "    <tr>\n",
       "      <th>0</th>\n",
       "      <td>(100026, 0.891)</td>\n",
       "      <td>(12174, 0.109)</td>\n",
       "    </tr>\n",
       "    <tr>\n",
       "      <th>1</th>\n",
       "      <td>(1744, 0.176)</td>\n",
       "      <td>(8168, 0.824)</td>\n",
       "    </tr>\n",
       "  </tbody>\n",
       "</table>\n",
       "</div>"
      ],
      "text/plain": [
       "                 0               1\n",
       "0  (100026, 0.891)  (12174, 0.109)\n",
       "1    (1744, 0.176)   (8168, 0.824)"
      ]
     },
     "execution_count": 23,
     "metadata": {},
     "output_type": "execute_result"
    }
   ],
   "source": [
    "#The following combines the totals from the original confusion matrix and the rates from cm_rates into a single dataframe\n",
    "v = list(zip(cm.flatten().tolist(),np.around(cm_rates, 3).flatten().tolist()))\n",
    "print(v)\n",
    "cm_with_rates = pd.DataFrame([v[i:i+2] for i in range(0, len(v), 2)])\n",
    "cm_with_rates"
   ]
  },
  {
   "cell_type": "code",
   "execution_count": null,
   "id": "f3548c70",
   "metadata": {},
   "outputs": [],
   "source": []
  }
 ],
 "metadata": {
  "kernelspec": {
   "display_name": "Python 3 (ipykernel)",
   "language": "python",
   "name": "python3"
  },
  "language_info": {
   "codemirror_mode": {
    "name": "ipython",
    "version": 3
   },
   "file_extension": ".py",
   "mimetype": "text/x-python",
   "name": "python",
   "nbconvert_exporter": "python",
   "pygments_lexer": "ipython3",
   "version": "3.10.8"
  }
 },
 "nbformat": 4,
 "nbformat_minor": 5
}
